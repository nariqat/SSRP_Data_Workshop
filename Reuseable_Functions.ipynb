{
 "cells": [
  {
   "cell_type": "markdown",
   "metadata": {},
   "source": [
    "# Function\n",
    "    #re-use, so you do not have to type it out every time \n",
    "    #function not available in library\n",
    "    #makes it more readable"
   ]
  },
  {
   "cell_type": "code",
   "execution_count": 5,
   "metadata": {},
   "outputs": [],
   "source": [
    "#define function first and then print it whenever you want \n",
    "def print_greeting():\n",
    "    print('Hello world')"
   ]
  },
  {
   "cell_type": "code",
   "execution_count": 6,
   "metadata": {},
   "outputs": [
    {
     "name": "stdout",
     "output_type": "stream",
     "text": [
      "Hello world\n"
     ]
    }
   ],
   "source": [
    "print_greeting()"
   ]
  },
  {
   "cell_type": "code",
   "execution_count": 7,
   "metadata": {},
   "outputs": [],
   "source": [
    "#define the the year month and day, use dash to make the format nice\n",
    "def print_date(year, month, day):\n",
    "    print(year,'-', month,'-',day)"
   ]
  },
  {
   "cell_type": "code",
   "execution_count": 12,
   "metadata": {},
   "outputs": [
    {
     "name": "stdout",
     "output_type": "stream",
     "text": [
      "2020 - June - 19\n"
     ]
    }
   ],
   "source": [
    "print_date(2020,'June',19)"
   ]
  },
  {
   "cell_type": "code",
   "execution_count": 14,
   "metadata": {},
   "outputs": [],
   "source": [
    "#return a value, value =[0,4,6]\n",
    "# return: gives you a physical output, saves your function, defines what you output\n",
    "def sum(values):\n",
    "    count = 0\n",
    "    for value in values: \n",
    "        count = count + value\n",
    "    return count "
   ]
  },
  {
   "cell_type": "code",
   "execution_count": 18,
   "metadata": {},
   "outputs": [
    {
     "data": {
      "text/plain": [
       "10"
      ]
     },
     "execution_count": 18,
     "metadata": {},
     "output_type": "execute_result"
    }
   ],
   "source": [
    "my_list = [0,4,6]\n",
    "sum(my_list)"
   ]
  },
  {
   "cell_type": "code",
   "execution_count": 21,
   "metadata": {},
   "outputs": [
    {
     "name": "stdout",
     "output_type": "stream",
     "text": [
      "10\n"
     ]
    }
   ],
   "source": [
    "my_sum = sum(my_list)\n",
    "print(my_sum)"
   ]
  },
  {
   "cell_type": "code",
   "execution_count": 24,
   "metadata": {},
   "outputs": [],
   "source": [
    "def first_negative(values):\n",
    "      ''''input: list of numbers\n",
    "    Returns: the first negative values in the list \n",
    "    '''\n",
    "    for v in values:\n",
    "        if v < 0:\n",
    "            return v "
   ]
  },
  {
   "cell_type": "code",
   "execution_count": 28,
   "metadata": {},
   "outputs": [
    {
     "name": "stdout",
     "output_type": "stream",
     "text": [
      "None\n"
     ]
    }
   ],
   "source": [
    "a = first_negative([1,4,2,4,1])\n",
    "print(a)"
   ]
  },
  {
   "cell_type": "code",
   "execution_count": 31,
   "metadata": {},
   "outputs": [],
   "source": [
    "def all_negative(values):\n",
    "    ''''input: list of numbers\n",
    "    Returns: the all negatives values in the list \n",
    "    '''\n",
    "    neg_list = []\n",
    "    for v in values:\n",
    "        if v < 0:\n",
    "            neg_list.append(v) #add negative values to the list\n",
    "    return neg_list"
   ]
  },
  {
   "cell_type": "code",
   "execution_count": 32,
   "metadata": {},
   "outputs": [
    {
     "data": {
      "text/plain": [
       "[-1, -3]"
      ]
     },
     "execution_count": 32,
     "metadata": {},
     "output_type": "execute_result"
    }
   ],
   "source": [
    "all_negative([0,-1,1,2,-3])"
   ]
  },
  {
   "cell_type": "code",
   "execution_count": 55,
   "metadata": {},
   "outputs": [],
   "source": [
    " # initialize the count\n",
    "    # loop through the sequence \n",
    "        # check if letter is a 'A'\n",
    "            # increase count\n",
    "            \n",
    "    # return count\n",
    "\n",
    "def count_As(sequence):\n",
    "    count = 0\n",
    "    for nucl in sequence:\n",
    "        if nucl == 'A':\n",
    "            count = count + 1 \n",
    "    return count\n"
   ]
  },
  {
   "cell_type": "code",
   "execution_count": 56,
   "metadata": {},
   "outputs": [
    {
     "data": {
      "text/plain": [
       "6"
      ]
     },
     "execution_count": 56,
     "metadata": {},
     "output_type": "execute_result"
    }
   ],
   "source": [
    "count_As('AAACTGCTAATACGT')"
   ]
  },
  {
   "cell_type": "code",
   "execution_count": 61,
   "metadata": {},
   "outputs": [],
   "source": [
    "def count_ATG(sequence):\n",
    "    #input: DNA sequence \n",
    "    #output: number of start codons(ATG)\n",
    "    # ind\n",
    "    count = 0\n",
    "    for ind in range(len(sequence)): \n",
    "        #print(ind)\n",
    "        #print(ind+3)\n",
    "        three_nucl = sequence[ind:ind+3]\n",
    "        #print(three_nucl)\n",
    "        if three_nucl == 'ATG':\n",
    "            count = count + 1\n",
    "    return count"
   ]
  },
  {
   "cell_type": "code",
   "execution_count": 62,
   "metadata": {},
   "outputs": [
    {
     "data": {
      "text/plain": [
       "2"
      ]
     },
     "execution_count": 62,
     "metadata": {},
     "output_type": "execute_result"
    }
   ],
   "source": [
    "count_ATG('ATGCCCCATGCCCCCC')"
   ]
  },
  {
   "cell_type": "code",
   "execution_count": null,
   "metadata": {},
   "outputs": [],
   "source": []
  }
 ],
 "metadata": {
  "kernelspec": {
   "display_name": "Python 3",
   "language": "python",
   "name": "python3"
  },
  "language_info": {
   "codemirror_mode": {
    "name": "ipython",
    "version": 3
   },
   "file_extension": ".py",
   "mimetype": "text/x-python",
   "name": "python",
   "nbconvert_exporter": "python",
   "pygments_lexer": "ipython3",
   "version": "3.7.6"
  }
 },
 "nbformat": 4,
 "nbformat_minor": 4
}
