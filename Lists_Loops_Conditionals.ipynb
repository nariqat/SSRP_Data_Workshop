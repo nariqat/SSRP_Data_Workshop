{
 "cells": [
  {
   "cell_type": "code",
   "execution_count": 24,
   "metadata": {},
   "outputs": [
    {
     "name": "stdout",
     "output_type": "stream",
     "text": [
      "[0.274, 0.3, 0.5, 0.2, 0.1]\n"
     ]
    }
   ],
   "source": [
    "# pressure_1, pressure_2, pressure_3, pressure_4, .....\n",
    "#List: collection that stores a bunc of variables or numbers, or other data types \n",
    "pressures = [0.274, 0.3, 0.5, 0.2, 0.1]\n",
    "print(pressures)"
   ]
  },
  {
   "cell_type": "code",
   "execution_count": 2,
   "metadata": {},
   "outputs": [
    {
     "data": {
      "text/plain": [
       "5"
      ]
     },
     "execution_count": 2,
     "metadata": {},
     "output_type": "execute_result"
    }
   ],
   "source": [
    "len(pressures)"
   ]
  },
  {
   "cell_type": "code",
   "execution_count": 5,
   "metadata": {},
   "outputs": [
    {
     "name": "stdout",
     "output_type": "stream",
     "text": [
      "First item in the pressures list:  0.274\n",
      "First item in the pressures list:  0.1\n"
     ]
    }
   ],
   "source": [
    "# Getting items in a list \n",
    "print('First item in the pressures list: ', pressures[0])\n",
    "print('First item in the pressures list: ', pressures[4])"
   ]
  },
  {
   "cell_type": "code",
   "execution_count": 4,
   "metadata": {},
   "outputs": [
    {
     "name": "stdout",
     "output_type": "stream",
     "text": [
      "pressures before:  [0.274, 0.3, 0.5, 0.2, 0.1]\n",
      "Pressures after:  [0.274, 0.6, 0.5, 0.2, 0.1]\n"
     ]
    }
   ],
   "source": [
    "# Setting items in a list\n",
    "pressures = [0.274, 0.3, 0.5, 0.2, 0.1]\n",
    "print('pressures before: ', pressures)\n",
    "pressures[1] = .6 # setting an item \n",
    "print('Pressures after: ', pressures)"
   ]
  },
  {
   "cell_type": "code",
   "execution_count": 6,
   "metadata": {},
   "outputs": [
    {
     "data": {
      "text/plain": [
       "4"
      ]
     },
     "execution_count": 6,
     "metadata": {},
     "output_type": "execute_result"
    }
   ],
   "source": [
    "pressures.index(.1) \n",
    "# index is its own function so this is not part of a list it is just asking for specific position"
   ]
  },
  {
   "cell_type": "code",
   "execution_count": null,
   "metadata": {},
   "outputs": [],
   "source": [
    "#():  where you are calling a function\n",
    "#[]: Accesing an item in a list or a string, in brackets are the index"
   ]
  },
  {
   "cell_type": "code",
   "execution_count": 7,
   "metadata": {},
   "outputs": [
    {
     "data": {
      "text/plain": [
       "[0.274, 0.6, 0.5, 0.2, 0.1]"
      ]
     },
     "execution_count": 7,
     "metadata": {},
     "output_type": "execute_result"
    }
   ],
   "source": [
    "#Make a list longer\n",
    "pressures"
   ]
  },
  {
   "cell_type": "code",
   "execution_count": 8,
   "metadata": {},
   "outputs": [
    {
     "name": "stdout",
     "output_type": "stream",
     "text": [
      "[0.274, 0.6, 0.5, 0.2, 0.1]\n",
      "[0.274, 0.6, 0.5, 0.2, 0.1, 0.4, 0.5]\n"
     ]
    }
   ],
   "source": [
    "print(pressures)\n",
    "pressures.append(0.4)\n",
    "pressures.append(0.5)\n",
    "print(pressures)"
   ]
  },
  {
   "cell_type": "code",
   "execution_count": 10,
   "metadata": {},
   "outputs": [],
   "source": [
    "# in the above examples, index and append are special types of function:\n",
    "# methods- function that's associated with a particular object \n",
    "\n",
    "# object_name.method_name \n",
    "    # method_name: append or index\n",
    "    #object_name: pressures\n",
    "my_special_list = [2, 6, 3, 4]"
   ]
  },
  {
   "cell_type": "code",
   "execution_count": 11,
   "metadata": {},
   "outputs": [
    {
     "name": "stdout",
     "output_type": "stream",
     "text": [
      "[2, 6, 3, 4]\n",
      "[2, 3, 4]\n"
     ]
    }
   ],
   "source": [
    "# Making a list shorter\n",
    "print(my_special_list)\n",
    "del my_special_list[1] # this will delete the 6 \n",
    "print(my_special_list)"
   ]
  },
  {
   "cell_type": "code",
   "execution_count": 12,
   "metadata": {},
   "outputs": [
    {
     "name": "stdout",
     "output_type": "stream",
     "text": [
      "[]\n"
     ]
    }
   ],
   "source": [
    "a = [] # empty list\n",
    "print(a)"
   ]
  },
  {
   "cell_type": "code",
   "execution_count": 13,
   "metadata": {},
   "outputs": [
    {
     "data": {
      "text/plain": [
       "0"
      ]
     },
     "execution_count": 13,
     "metadata": {},
     "output_type": "execute_result"
    }
   ],
   "source": [
    "len(a)"
   ]
  },
  {
   "cell_type": "code",
   "execution_count": 14,
   "metadata": {},
   "outputs": [],
   "source": [
    "my_list =[2, 'hi', 5.1204, 'Nabeela']"
   ]
  },
  {
   "cell_type": "code",
   "execution_count": 15,
   "metadata": {},
   "outputs": [
    {
     "data": {
      "text/plain": [
       "'hi'"
      ]
     },
     "execution_count": 15,
     "metadata": {},
     "output_type": "execute_result"
    }
   ],
   "source": [
    "my_list[1]"
   ]
  },
  {
   "cell_type": "code",
   "execution_count": 16,
   "metadata": {},
   "outputs": [
    {
     "data": {
      "text/plain": [
       "5.1204"
      ]
     },
     "execution_count": 16,
     "metadata": {},
     "output_type": "execute_result"
    }
   ],
   "source": [
    "my_list[2]"
   ]
  },
  {
   "cell_type": "code",
   "execution_count": 17,
   "metadata": {},
   "outputs": [
    {
     "data": {
      "text/plain": [
       "'a'"
      ]
     },
     "execution_count": 17,
     "metadata": {},
     "output_type": "execute_result"
    }
   ],
   "source": [
    "# Strings and lists are actually really similar!!\n",
    "element = 'carbon'\n",
    "element[1] # springs and lists are accesed in the same way "
   ]
  },
  {
   "cell_type": "code",
   "execution_count": 18,
   "metadata": {},
   "outputs": [
    {
     "ename": "TypeError",
     "evalue": "'str' object does not support item assignment",
     "output_type": "error",
     "traceback": [
      "\u001b[0;31m---------------------------------------------------------------------------\u001b[0m",
      "\u001b[0;31mTypeError\u001b[0m                                 Traceback (most recent call last)",
      "\u001b[0;32m<ipython-input-18-6dc46761ce07>\u001b[0m in \u001b[0;36m<module>\u001b[0;34m\u001b[0m\n\u001b[0;32m----> 1\u001b[0;31m \u001b[0melement\u001b[0m\u001b[0;34m[\u001b[0m\u001b[0;36m0\u001b[0m\u001b[0;34m]\u001b[0m \u001b[0;34m=\u001b[0m \u001b[0;34m'C'\u001b[0m\u001b[0;34m\u001b[0m\u001b[0;34m\u001b[0m\u001b[0m\n\u001b[0m",
      "\u001b[0;31mTypeError\u001b[0m: 'str' object does not support item assignment"
     ]
    }
   ],
   "source": [
    "element[0] = 'C'\n",
    "# strings are lists that are immutable(cannot be changed)"
   ]
  },
  {
   "cell_type": "code",
   "execution_count": 19,
   "metadata": {},
   "outputs": [],
   "source": [
    "# strings cannot be changed \n",
    "capital_element = 'Carbon'"
   ]
  },
  {
   "cell_type": "code",
   "execution_count": 23,
   "metadata": {},
   "outputs": [
    {
     "name": "stdout",
     "output_type": "stream",
     "text": [
      "first time: [1, 3, 5]\n",
      "second time: [3, 5]\n"
     ]
    }
   ],
   "source": [
    "#Exercise example\n",
    "values = []\n",
    "values.append(1)\n",
    "values.append(3)\n",
    "values.append(5)\n",
    "print('first time:', values)\n",
    "values = values[1:3] # put a colon if you want the last number to appear as well\n",
    "print('second time:', values)"
   ]
  },
  {
   "cell_type": "markdown",
   "metadata": {},
   "source": [
    "# For Loops"
   ]
  },
  {
   "cell_type": "code",
   "execution_count": 29,
   "metadata": {},
   "outputs": [
    {
     "name": "stdout",
     "output_type": "stream",
     "text": [
      "2\n",
      "3\n",
      "5\n",
      "7\n"
     ]
    }
   ],
   "source": [
    "# Loops: commands repeatedly, once for every value in a collection\n",
    "# For Loops: execute for every value in a list, string, collections\n",
    "for number in [2, 3, 5, 7]:\n",
    "    print(number)"
   ]
  },
  {
   "cell_type": "code",
   "execution_count": 30,
   "metadata": {},
   "outputs": [
    {
     "name": "stdout",
     "output_type": "stream",
     "text": [
      "2\n",
      "3\n",
      "5\n",
      "7\n"
     ]
    }
   ],
   "source": [
    "#example: \n",
    "my_list = [2, 3, 5, 7]\n",
    "for number in my_list:\n",
    "    print(number)"
   ]
  },
  {
   "cell_type": "code",
   "execution_count": null,
   "metadata": {},
   "outputs": [],
   "source": [
    "# Collection: the thing you're iterating through. ex: [2, 3, 5, 7]\n",
    "# Loop variable: temporary variable that takes on values of the collection one by on ex: unicorn\n",
    "# Body: lines of code that run each time the loop is executed. ex: print(unicorn)"
   ]
  },
  {
   "cell_type": "code",
   "execution_count": 31,
   "metadata": {},
   "outputs": [
    {
     "name": "stdout",
     "output_type": "stream",
     "text": [
      "2\n",
      "3\n",
      "5\n",
      "7\n"
     ]
    }
   ],
   "source": [
    "# A loop always has a for and in with a listand a colon at the end\n",
    "# print has to be indented \n",
    "for number in [2, 3, 5, 7]:\n",
    "    print(number)"
   ]
  },
  {
   "cell_type": "code",
   "execution_count": null,
   "metadata": {},
   "outputs": [],
   "source": [
    "# Syntax:\n",
    "    # remeber colon!\n",
    "    #remeber indent of the body of the loop\n",
    "        #which is the print(number)"
   ]
  },
  {
   "cell_type": "code",
   "execution_count": 32,
   "metadata": {},
   "outputs": [
    {
     "name": "stdout",
     "output_type": "stream",
     "text": [
      "2 4 8\n",
      "3 9 27\n",
      "5 25 125\n"
     ]
    }
   ],
   "source": [
    "primes = [2, 3, 5]\n",
    "for p in primes:\n",
    "    squared = p**2 #double astricks is squared and with a 3 is cubed\n",
    "    cubed = p**3\n",
    "    print(p, squared, cubed)"
   ]
  },
  {
   "cell_type": "code",
   "execution_count": 36,
   "metadata": {},
   "outputs": [
    {
     "name": "stdout",
     "output_type": "stream",
     "text": [
      "0\n",
      "1\n",
      "2\n",
      "45\n",
      "46\n",
      "47\n",
      "48\n",
      "49\n"
     ]
    }
   ],
   "source": [
    "# python lets you use the range function: range()\n",
    "    # gives you access for all the numbers in a row \n",
    "for number in range(3):\n",
    "    print(number)\n",
    "for number in range(45, 50): \n",
    "    print(number)"
   ]
  },
  {
   "cell_type": "code",
   "execution_count": 39,
   "metadata": {},
   "outputs": [
    {
     "name": "stdout",
     "output_type": "stream",
     "text": [
      "10\n"
     ]
    }
   ],
   "source": [
    "# Accumulator pattern: common pattern in programs:\n",
    "# first initialize something to a starting value\n",
    "# update it every time you go through a loop\n",
    "\n",
    "#Sum the values from 1 to 4 \n",
    "current_sum = 0\n",
    "for number in [0, 1, 2, 3]:\n",
    "    current_sum = current_sum +(number +1)\n",
    "print(current_sum)"
   ]
  },
  {
   "cell_type": "code",
   "execution_count": null,
   "metadata": {},
   "outputs": [],
   "source": [
    "#A explanation of the previous loop\n",
    "#first iteration:\n",
    "    # current_sum+0; number = 0; current_sum = 1\n",
    "\n",
    "#second iteration\n",
    "    #current_sum = 1; number = 1; current_sum = 3\n",
    "\n",
    "#third iteration\n",
    "    #current_sum = 3; number= 2; current_sum = 6 (3 + 2 +1)\n",
    "    "
   ]
  },
  {
   "cell_type": "markdown",
   "metadata": {},
   "source": [
    "# Examples for Loops"
   ]
  },
  {
   "cell_type": "code",
   "execution_count": 42,
   "metadata": {},
   "outputs": [
    {
     "name": "stdout",
     "output_type": "stream",
     "text": [
      "t\n",
      "i\n",
      "n\n",
      "3\n"
     ]
    }
   ],
   "source": [
    "total = 0\n",
    "for char in 'tin': \n",
    "    total = total + 1\n",
    "print(total)"
   ]
  },
  {
   "cell_type": "code",
   "execution_count": 43,
   "metadata": {},
   "outputs": [
    {
     "name": "stdout",
     "output_type": "stream",
     "text": [
      "3\n"
     ]
    }
   ],
   "source": [
    "total = 0\n",
    "for number in [0, 1, 2]: \n",
    "    total = total + 1\n",
    "print(total)"
   ]
  },
  {
   "cell_type": "code",
   "execution_count": null,
   "metadata": {},
   "outputs": [],
   "source": [
    "# Loop will go through 3 times for t, i , then n (3 letters so 3 times)\n",
    "#first time through the loop\n",
    "    #total=0 \n",
    "    # then total = 1 after loop goes through once\n",
    "    \n",
    "#second time through\n",
    "    #total = 1\n",
    "    # then total = 2 after loop goes through again\n",
    "\n",
    "#third time through\n",
    "    #total = 1\n",
    "    #then total = 3 after loop goes through again\n",
    "    "
   ]
  },
  {
   "cell_type": "code",
   "execution_count": null,
   "metadata": {},
   "outputs": [],
   "source": [
    "# total length of the strings in the list: ['red, 'green' 'blue]'] > 12\n",
    "total + 0 \n",
    "for word in ['red', 'green', 'blue']: \n",
    "    lengths._(_)\n",
    "print(lengths)"
   ]
  },
  {
   "cell_type": "markdown",
   "metadata": {},
   "source": [
    "# Conditionals"
   ]
  },
  {
   "cell_type": "code",
   "execution_count": 46,
   "metadata": {},
   "outputs": [
    {
     "name": "stdout",
     "output_type": "stream",
     "text": [
      "5 is large\n"
     ]
    }
   ],
   "source": [
    "#conditional: a way to tell your program to do different things depending on a test\n",
    "\n",
    "# if statement: includes a test, followed by a colon, then have a body\n",
    "\n",
    "mass = 5\n",
    "if mass > 3: \n",
    "    print(mass, 'is large')"
   ]
  },
  {
   "cell_type": "code",
   "execution_count": 47,
   "metadata": {},
   "outputs": [],
   "source": [
    "mass = 2\n",
    "if mass > 3: \n",
    "    print(mass, 'is large')\n",
    "    # does not print anything since 2 is not >3"
   ]
  },
  {
   "cell_type": "code",
   "execution_count": null,
   "metadata": {},
   "outputs": [],
   "source": [
    "# > greater thzn\n",
    "# < less than\n",
    "# == equals to\n",
    "# >= greater than or equal to \n",
    "#!= not equal to\n"
   ]
  },
  {
   "cell_type": "code",
   "execution_count": 49,
   "metadata": {},
   "outputs": [
    {
     "name": "stdout",
     "output_type": "stream",
     "text": [
      "2 is small\n",
      "Yay I found small mass\n"
     ]
    }
   ],
   "source": [
    "# else statement : executed after an if, alternative when the if branch isn't taken\n",
    "\n",
    "mass = 2\n",
    "if mass > 3: \n",
    "    print(mass, 'is large')\n",
    "else: \n",
    "    print(mass, 'is small')\n",
    "    print('Yay I found small mass')\n"
   ]
  },
  {
   "cell_type": "code",
   "execution_count": 50,
   "metadata": {},
   "outputs": [
    {
     "name": "stdout",
     "output_type": "stream",
     "text": [
      "4 is medium\n"
     ]
    }
   ],
   "source": [
    "# elif statemetn: used to specify additional tests, will ignore everything else if it fits into the elif \n",
    "mass = 4\n",
    "if mass > 5: \n",
    "    print(mass, 'is large')\n",
    "elif mass > 3:\n",
    "    print(mass, 'is medium')\n",
    "else: \n",
    "    print(mass, 'is small')\n",
    "    print('Yay I found small mass')"
   ]
  },
  {
   "cell_type": "code",
   "execution_count": 52,
   "metadata": {},
   "outputs": [
    {
     "name": "stdout",
     "output_type": "stream",
     "text": [
      "5 is large, pay attention to this data point\n",
      "2 is small, ignore this\n",
      "3 is large, pay attention to this data point\n",
      "6 is large, pay attention to this data point\n",
      "3 is large, pay attention to this data point\n"
     ]
    }
   ],
   "source": [
    "masses = [5, 2, 3, 6, 3]\n",
    "for m in masses: \n",
    "    if m > 2.5:\n",
    "        print(m, 'is large, pay attention to this data point')\n",
    "    else: \n",
    "        print(m, 'is small, ignore this')"
   ]
  },
  {
   "cell_type": "code",
   "execution_count": 54,
   "metadata": {},
   "outputs": [
    {
     "name": "stdout",
     "output_type": "stream",
     "text": [
      "grade is C\n"
     ]
    }
   ],
   "source": [
    "grade = 85 \n",
    "if grade >= 70:\n",
    "    print('grade is C')\n",
    "elif grade >= 80:\n",
    "    print('grade is B')\n",
    "elif grade >= 90:\n",
    "    print('grade is A')"
   ]
  },
  {
   "cell_type": "code",
   "execution_count": 56,
   "metadata": {},
   "outputs": [
    {
     "name": "stdout",
     "output_type": "stream",
     "text": [
      "grade is B\n"
     ]
    }
   ],
   "source": [
    "grade = 85 \n",
    "if grade >= 90:\n",
    "    print('grade is A')\n",
    "elif grade >= 80:\n",
    "    print('grade is B')\n",
    "elif grade >= 70:\n",
    "    print('grade is C')\n",
    "else: \n",
    "    print('sorry you failed:(')"
   ]
  },
  {
   "cell_type": "markdown",
   "metadata": {},
   "source": [
    "# Examples of Conditionals"
   ]
  },
  {
   "cell_type": "code",
   "execution_count": 58,
   "metadata": {},
   "outputs": [
    {
     "name": "stdout",
     "output_type": "stream",
     "text": [
      "[0, 1, 1, 1, 0, 1]\n"
     ]
    }
   ],
   "source": [
    "# Trimming Values, Desired Output:[0,1,1,1,0,1]\n",
    "original = [-1.5, 0.2, 0.4, 0.0, -1.3, 0.4]\n",
    "result = []\n",
    "for value in original:\n",
    "    if value < 0:\n",
    "        result.append(0)\n",
    "    else:\n",
    "        result.append(1)\n",
    "print(result)"
   ]
  },
  {
   "cell_type": "code",
   "execution_count": null,
   "metadata": {},
   "outputs": [],
   "source": []
  }
 ],
 "metadata": {
  "kernelspec": {
   "display_name": "Python 3",
   "language": "python",
   "name": "python3"
  },
  "language_info": {
   "codemirror_mode": {
    "name": "ipython",
    "version": 3
   },
   "file_extension": ".py",
   "mimetype": "text/x-python",
   "name": "python",
   "nbconvert_exporter": "python",
   "pygments_lexer": "ipython3",
   "version": "3.7.6"
  }
 },
 "nbformat": 4,
 "nbformat_minor": 4
}
